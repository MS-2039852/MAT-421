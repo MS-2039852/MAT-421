{
  "nbformat": 4,
  "nbformat_minor": 0,
  "metadata": {
    "colab": {
      "provenance": [],
      "authorship_tag": "ABX9TyNCD/Mj8lll+V09P4x1WpT+",
      "include_colab_link": true
    },
    "kernelspec": {
      "name": "python3",
      "display_name": "Python 3"
    },
    "language_info": {
      "name": "python"
    }
  },
  "cells": [
    {
      "cell_type": "markdown",
      "metadata": {
        "id": "view-in-github",
        "colab_type": "text"
      },
      "source": [
        "<a href=\"https://colab.research.google.com/github/MS-2039852/MAT-421/blob/main/Module_I.ipynb\" target=\"_parent\"><img src=\"https://colab.research.google.com/assets/colab-badge.svg\" alt=\"Open In Colab\"/></a>"
      ]
    },
    {
      "cell_type": "code",
      "execution_count": null,
      "metadata": {
        "id": "GIchEYoYyIBb"
      },
      "outputs": [],
      "source": []
    },
    {
      "cell_type": "code",
      "source": [],
      "metadata": {
        "id": "MLaAUCXLyPWh"
      },
      "execution_count": null,
      "outputs": []
    },
    {
      "cell_type": "markdown",
      "source": [
        "**2.1**"
      ],
      "metadata": {
        "id": "CQ0z0lX_yQqk"
      }
    },
    {
      "cell_type": "markdown",
      "source": [
        "**2.2**"
      ],
      "metadata": {
        "id": "2489TfQYySad"
      }
    },
    {
      "cell_type": "markdown",
      "source": [
        "**2.3**"
      ],
      "metadata": {
        "id": "Ioq6LQKGyTkk"
      }
    }
  ]
}