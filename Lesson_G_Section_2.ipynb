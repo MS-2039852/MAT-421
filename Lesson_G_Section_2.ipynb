{
  "nbformat": 4,
  "nbformat_minor": 0,
  "metadata": {
    "colab": {
      "provenance": [],
      "authorship_tag": "ABX9TyPLgw87CCDbZSLCp5waZ3Qg",
      "include_colab_link": true
    },
    "kernelspec": {
      "name": "python3",
      "display_name": "Python 3"
    },
    "language_info": {
      "name": "python"
    }
  },
  "cells": [
    {
      "cell_type": "markdown",
      "metadata": {
        "id": "view-in-github",
        "colab_type": "text"
      },
      "source": [
        "<a href=\"https://colab.research.google.com/github/MS-2039852/MAT-421/blob/main/Lesson_G_Section_2.ipynb\" target=\"_parent\"><img src=\"https://colab.research.google.com/assets/colab-badge.svg\" alt=\"Open In Colab\"/></a>"
      ]
    },
    {
      "cell_type": "code",
      "execution_count": null,
      "metadata": {
        "id": "eoDp7u6816sy"
      },
      "outputs": [],
      "source": []
    },
    {
      "cell_type": "markdown",
      "source": [
        "**Section 21.4**"
      ],
      "metadata": {
        "id": "XL4Q2Ve52AhG"
      }
    },
    {
      "cell_type": "markdown",
      "source": [
        "**Section 21.5**"
      ],
      "metadata": {
        "id": "4DZk_Cyx2JAS"
      }
    }
  ]
}