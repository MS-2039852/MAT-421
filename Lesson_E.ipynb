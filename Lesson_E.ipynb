{
  "nbformat": 4,
  "nbformat_minor": 0,
  "metadata": {
    "colab": {
      "provenance": [],
      "authorship_tag": "ABX9TyMqWCTKlyn8quHQLWDpw77U",
      "include_colab_link": true
    },
    "kernelspec": {
      "name": "python3",
      "display_name": "Python 3"
    },
    "language_info": {
      "name": "python"
    }
  },
  "cells": [
    {
      "cell_type": "markdown",
      "metadata": {
        "id": "view-in-github",
        "colab_type": "text"
      },
      "source": [
        "<a href=\"https://colab.research.google.com/github/MS-2039852/MAT-421/blob/main/Lesson_E.ipynb\" target=\"_parent\"><img src=\"https://colab.research.google.com/assets/colab-badge.svg\" alt=\"Open In Colab\"/></a>"
      ]
    },
    {
      "cell_type": "markdown",
      "source": [
        "**3.2 Continuity and Differentiation**"
      ],
      "metadata": {
        "id": "IEBC_7thXpi-"
      }
    },
    {
      "cell_type": "markdown",
      "source": [
        "**Limits of a Function-** Let f : D → Rbe a real-valued func-\n",
        "tion on D ⊆ Rd . Then f is said to have a limit L ∈ Ras x approaches a if: for\n",
        "any ε>0, there exists a δ>0 such that | f (x)−L| <εfor all x ∈ D ∩Bδ(a)\\{a}.\n",
        "This is written as\n",
        "limx→a f (x)=L\n",
        "\n",
        "We can use the SymPy library in Python to caclulate function limits. I will demonstate this below."
      ],
      "metadata": {
        "id": "d24VusQbY3BL"
      }
    },
    {
      "cell_type": "code",
      "source": [
        " \n",
        "x = symbols('x')\n",
        "expr = sin(7 * x)/x;\n",
        "   \n",
        "print(\"Expression : {}\".format(expr))\n",
        "limit_expr = limit(expr, x, 0) \n",
        "     \n",
        "print(\"Limit of the expression tends to 0 : {}\".format(limit_expr)) \n",
        "     "
      ],
      "metadata": {
        "colab": {
          "base_uri": "https://localhost:8080/"
        },
        "id": "fO9BhydPZUOB",
        "outputId": "ca931b4e-c865-4710-9149-a7085f3a7ebe"
      },
      "execution_count": 11,
      "outputs": [
        {
          "output_type": "stream",
          "name": "stdout",
          "text": [
            "Expression : sin(7*x)/x\n",
            "Limit of the expression tends to 0 : 7\n"
          ]
        }
      ]
    },
    {
      "cell_type": "markdown",
      "source": [
        "**Derivative of a Function-** Let f : D → Rwhere D ⊆ Rand let x0 ∈ D be an\n",
        "interior point of D. The derivative of f at x0 is\n",
        "f ′(x0)=df (x0)\n",
        "dx =limh→0\n",
        "f (x0 +h)− f (x0)\n",
        "h ,\n",
        "provided the limit exists.\n",
        "\n",
        "We can also calculate the derivative of a function by importing the SymPy library in Python.[link text](https://)"
      ],
      "metadata": {
        "id": "UybHmxHWa0jp"
      }
    },
    {
      "cell_type": "code",
      "source": [
        "x = Symbol('x')\n",
        "f = x**2 + 3*x\n",
        "\n",
        "derivative_f = f.diff(x)\n",
        "\n",
        "derivative_f\n"
      ],
      "metadata": {
        "colab": {
          "base_uri": "https://localhost:8080/",
          "height": 39
        },
        "id": "bNOw87ShbmUX",
        "outputId": "f122accc-0f97-4084-bd7e-d670e0218518"
      },
      "execution_count": 14,
      "outputs": [
        {
          "output_type": "execute_result",
          "data": {
            "text/plain": [
              "2*x + 3"
            ],
            "text/latex": "$\\displaystyle 2 x + 3$"
          },
          "metadata": {},
          "execution_count": 14
        }
      ]
    },
    {
      "cell_type": "markdown",
      "source": [
        "Below I will demonstrate how to preform several fundamental calculus operations in Python."
      ],
      "metadata": {
        "id": "m4WIkZLWb0nv"
      }
    },
    {
      "cell_type": "markdown",
      "source": [
        "**Chain Rule-** Let f : D1 → Rm, where D1 ⊆ Rd , and let g :\n",
        "D2 → Rp, where D2 ⊆ Rm. Assume that f is continuously differentiable at x0,\n",
        "an interior point of D1, and that g is continuously differentiable at f(x0), an\n",
        "interior point of D2. Then\n",
        "Jg◦f(x0)=Jg(f(x0))Jf(x0)\n",
        "as a product of matrices."
      ],
      "metadata": {
        "id": "8mldYOEWcK8Y"
      }
    },
    {
      "cell_type": "code",
      "source": [
        "import sympy as sym\n",
        "x = sym.Symbol('x')\n",
        "f = sym.cos(x**2+5*x)\n",
        "derivative_f = f.diff(x)\n",
        "derivative_f"
      ],
      "metadata": {
        "colab": {
          "base_uri": "https://localhost:8080/",
          "height": 39
        },
        "id": "sDjYEf5xcfrm",
        "outputId": "2c82b3c4-ca62-4cf7-d876-33c8eaa24562"
      },
      "execution_count": 16,
      "outputs": [
        {
          "output_type": "execute_result",
          "data": {
            "text/plain": [
              "-(2*x + 5)*sin(x**2 + 5*x)"
            ],
            "text/latex": "$\\displaystyle - \\left(2 x + 5\\right) \\sin{\\left(x^{2} + 5 x \\right)}$"
          },
          "metadata": {},
          "execution_count": 16
        }
      ]
    },
    {
      "cell_type": "markdown",
      "source": [
        "**Product Rule**"
      ],
      "metadata": {
        "id": "rybUTyk9cwAM"
      }
    },
    {
      "cell_type": "code",
      "source": [
        "import sympy as sym\n",
        "x = sym.Symbol('x')\n",
        "f = sym.exp(x)*sym.sin(3*x)\n",
        "derivative_f = f.diff(x)\n",
        "derivative_f"
      ],
      "metadata": {
        "colab": {
          "base_uri": "https://localhost:8080/",
          "height": 39
        },
        "id": "sz7aSeqpc7ky",
        "outputId": "ab5123ab-b063-45d1-bd54-d824a80ce1fd"
      },
      "execution_count": 19,
      "outputs": [
        {
          "output_type": "execute_result",
          "data": {
            "text/plain": [
              "exp(x)*sin(3*x) + 3*exp(x)*cos(3*x)"
            ],
            "text/latex": "$\\displaystyle e^{x} \\sin{\\left(3 x \\right)} + 3 e^{x} \\cos{\\left(3 x \\right)}$"
          },
          "metadata": {},
          "execution_count": 19
        }
      ]
    },
    {
      "cell_type": "markdown",
      "source": [
        "**Power Rule**"
      ],
      "metadata": {
        "id": "3yLmsQ40dIQq"
      }
    },
    {
      "cell_type": "code",
      "source": [
        "import sympy as sym\n",
        "x = sym.Symbol('x')\n",
        "f = x**3+14*x\n",
        "derivative_f = f.diff(x)\n",
        "derivative_f"
      ],
      "metadata": {
        "colab": {
          "base_uri": "https://localhost:8080/",
          "height": 39
        },
        "id": "OUiFhvEYdOuF",
        "outputId": "20b4442c-e037-4bb6-a762-51f0da3fc8fd"
      },
      "execution_count": 21,
      "outputs": [
        {
          "output_type": "execute_result",
          "data": {
            "text/plain": [
              "3*x**2 + 14"
            ],
            "text/latex": "$\\displaystyle 3 x^{2} + 14$"
          },
          "metadata": {},
          "execution_count": 21
        }
      ]
    },
    {
      "cell_type": "markdown",
      "source": [
        "**Derivatives of Multivariate Functions**"
      ],
      "metadata": {
        "id": "qyBgeG5idTY1"
      }
    },
    {
      "cell_type": "code",
      "source": [
        "import sympy as sym\n",
        "x , y = sym.symbols('x y')\n",
        "f = x**7+x*y**32\n",
        "\n",
        "derivative_f = f.diff(x)\n",
        "derivative_f"
      ],
      "metadata": {
        "colab": {
          "base_uri": "https://localhost:8080/",
          "height": 39
        },
        "id": "8n08GEUbdfk6",
        "outputId": "d81c273d-726a-4b02-cf24-d13e70e6b215"
      },
      "execution_count": 22,
      "outputs": [
        {
          "output_type": "execute_result",
          "data": {
            "text/plain": [
              "7*x**6 + y**32"
            ],
            "text/latex": "$\\displaystyle 7 x^{6} + y^{32}$"
          },
          "metadata": {},
          "execution_count": 22
        }
      ]
    },
    {
      "cell_type": "markdown",
      "source": [
        "**Calculating Partial Derivatives**"
      ],
      "metadata": {
        "id": "BJBGNqtHdxqn"
      }
    },
    {
      "cell_type": "code",
      "source": [
        "from sympy import Symbol, Derivative\n",
        "\n",
        "x= Symbol('x')\n",
        "\n",
        "y= Symbol('y')\n",
        "\n",
        "function= x**5 * y**9 + 32*y**6\n",
        "\n",
        "partialderiv= Derivative(function, x)\n",
        "partialderiv.doit()\n"
      ],
      "metadata": {
        "colab": {
          "base_uri": "https://localhost:8080/",
          "height": 39
        },
        "id": "CuO_nktEd1EL",
        "outputId": "d24dd57c-58f2-48cf-d112-6d277efad26b"
      },
      "execution_count": 23,
      "outputs": [
        {
          "output_type": "execute_result",
          "data": {
            "text/plain": [
              "5*x**4*y**9"
            ],
            "text/latex": "$\\displaystyle 5 x^{4} y^{9}$"
          },
          "metadata": {},
          "execution_count": 23
        }
      ]
    },
    {
      "cell_type": "markdown",
      "source": [
        "**3.3 Unconstrained Optimization**"
      ],
      "metadata": {
        "id": "uXXYUKU-eZXx"
      }
    },
    {
      "cell_type": "markdown",
      "source": [
        "Below I will demonstrate how to use the NumPy library to perform unconstrained optimization in Python with an output as a graphic representation."
      ],
      "metadata": {
        "id": "zXZ2i9CQe2Vc"
      }
    },
    {
      "cell_type": "code",
      "source": [
        "import numpy as np\n",
        "import matplotlib.pyplot as plt\n",
        "\n",
        "x=np.linspace(2,17,48)\n",
        "f=np.log(x)\n",
        "plt.plot(x,f,color=(1,0,1))\n",
        "plt.grid()\n",
        "plt.xlabel('x')\n",
        "plt.ylabel('ln(x)')\n",
        "a=3\n",
        "b=5\n",
        "lam = .4\n",
        "c = lam * a + (1-lam)*b\n",
        "fa = np.log(a)\n",
        "fb = np.log(b)\n",
        "fc = np.log(c)\n",
        "fcc = lam *fa+(1-lam)*fb\n",
        "\n",
        "plt.plot([a,a], [0,fa])\n",
        "plt.plot([b,b], [0,fb])\n",
        "plt.plot([c,c], [0,fc])\n",
        "plt.plot([c,c], [0, fcc])\n",
        "plt.plot([a,b], [fa,fb])\n",
        "     "
      ],
      "metadata": {
        "colab": {
          "base_uri": "https://localhost:8080/",
          "height": 297
        },
        "id": "lyg_vBjJeg6k",
        "outputId": "7c5ebadb-8112-4395-d978-976114fded1d"
      },
      "execution_count": 26,
      "outputs": [
        {
          "output_type": "execute_result",
          "data": {
            "text/plain": [
              "[<matplotlib.lines.Line2D at 0x7fbba81618e0>]"
            ]
          },
          "metadata": {},
          "execution_count": 26
        },
        {
          "output_type": "display_data",
          "data": {
            "text/plain": [
              "<Figure size 432x288 with 1 Axes>"
            ],
            "image/png": "[encoded data removed]"
          },
          "metadata": {
            "needs_background": "light"
          }
        }
      ]
    }
  ]
}