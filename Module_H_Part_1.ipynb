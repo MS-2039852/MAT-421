{
  "nbformat": 4,
  "nbformat_minor": 0,
  "metadata": {
    "colab": {
      "provenance": [],
      "authorship_tag": "ABX9TyOn5KzC8Y7dWkw6zCSM4OUC",
      "include_colab_link": true
    },
    "kernelspec": {
      "name": "python3",
      "display_name": "Python 3"
    },
    "language_info": {
      "name": "python"
    }
  },
  "cells": [
    {
      "cell_type": "markdown",
      "metadata": {
        "id": "view-in-github",
        "colab_type": "text"
      },
      "source": [
        "<a href=\"https://colab.research.google.com/github/MS-2039852/MAT-421/blob/main/Module_H_Part_1.ipynb\" target=\"_parent\"><img src=\"https://colab.research.google.com/assets/colab-badge.svg\" alt=\"Open In Colab\"/></a>"
      ]
    },
    {
      "cell_type": "code",
      "execution_count": null,
      "metadata": {
        "id": "rNW5cT-G4pyC"
      },
      "outputs": [],
      "source": []
    },
    {
      "cell_type": "markdown",
      "source": [
        "**Section 22.1**"
      ],
      "metadata": {
        "id": "WOqwY3-Q416p"
      }
    },
    {
      "cell_type": "markdown",
      "source": [
        "**Section 22.2**"
      ],
      "metadata": {
        "id": "IX2HLG7y435S"
      }
    },
    {
      "cell_type": "markdown",
      "source": [
        "**Section 22.3**"
      ],
      "metadata": {
        "id": "y4yMRtnk45ec"
      }
    }
  ]
}