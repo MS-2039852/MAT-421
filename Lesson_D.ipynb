{
  "nbformat": 4,
  "nbformat_minor": 0,
  "metadata": {
    "colab": {
      "provenance": [],
      "authorship_tag": "ABX9TyMxAQdHUluNTS9FuUUAIQ2J",
      "include_colab_link": true
    },
    "kernelspec": {
      "name": "python3",
      "display_name": "Python 3"
    },
    "language_info": {
      "name": "python"
    }
  },
  "cells": [
    {
      "cell_type": "markdown",
      "metadata": {
        "id": "view-in-github",
        "colab_type": "text"
      },
      "source": [
        "<a href=\"https://colab.research.google.com/github/MS-2039852/MAT-421/blob/main/Lesson_D.ipynb\" target=\"_parent\"><img src=\"https://colab.research.google.com/assets/colab-badge.svg\" alt=\"Open In Colab\"/></a>"
      ]
    },
    {
      "cell_type": "markdown",
      "source": [
        "**1.1 Introduction**"
      ],
      "metadata": {
        "id": "yAwAUsvgRcn9"
      }
    },
    {
      "cell_type": "markdown",
      "source": [
        "\n",
        "We will start by defining some key concepts and operations in linear algebra and giving examples of how they can be realized in Python.\n",
        "\n",
        "*   **Vector -** A vector in ℝ𝑛 is an 𝑛-tuple, or point, in ℝ𝑛\n",
        "\n",
        "* **Row Vector -** A vector written horizontally (i.e., with the elements of the vector next to each other) \n",
        "*   **Column Vector -** A vector wriitten vertically (i.e., with the elements of the vector on top of each other.\n",
        "\n",
        "Ex. Create a row vector and column vector, and show the shape of the vectors.\n"
      ],
      "metadata": {
        "id": "HuQ8kUWmba_E"
      }
    },
    {
      "cell_type": "code",
      "source": [
        "import numpy as np\n",
        "vector_row = np.array([[1, -5, 3, 2, 4]])\n",
        "vector_column = np.array([[1], \n",
        "                          [2], \n",
        "                          [3], \n",
        "                          [4]])\n",
        "print(vector_row.shape)\n",
        "print(vector_column.shape)"
      ],
      "metadata": {
        "colab": {
          "base_uri": "https://localhost:8080/"
        },
        "id": "Z09QvtEyej_u",
        "outputId": "bac0697f-21ad-4704-e44b-bd79b469a001"
      },
      "execution_count": 3,
      "outputs": [
        {
          "output_type": "stream",
          "name": "stdout",
          "text": [
            "(1, 5)\n",
            "(4, 1)\n"
          ]
        }
      ]
    },
    {
      "cell_type": "markdown",
      "source": [
        "Ex. Transpose the row vector we defined above into a column vector and calculate the 𝐿1\n",
        ", 𝐿2\n",
        ", and 𝐿∞\n",
        " norm of it. Verify that the 𝐿∞\n",
        " norm of a vector is equivalent to the maximum value of the elements in the vector."
      ],
      "metadata": {
        "id": "jKoefM1MflI4"
      }
    },
    {
      "cell_type": "code",
      "source": [
        "from numpy.linalg import norm\n",
        "new_vector = vector_row.T\n",
        "print(new_vector)\n",
        "norm_1 = norm(new_vector, 1)\n",
        "norm_2 = norm(new_vector, 2)\n",
        "norm_inf = norm(new_vector, np.inf)\n",
        "print('L_1 is: %.1f'%norm_1)\n",
        "print('L_2 is: %.1f'%norm_2)\n",
        "print('L_inf is: %.1f'%norm_inf)"
      ],
      "metadata": {
        "colab": {
          "base_uri": "https://localhost:8080/"
        },
        "id": "AsX0ev8wficD",
        "outputId": "a9525e20-9e35-4535-d979-b82d986355a7"
      },
      "execution_count": 5,
      "outputs": [
        {
          "output_type": "stream",
          "name": "stdout",
          "text": [
            "[[ 1]\n",
            " [-5]\n",
            " [ 3]\n",
            " [ 2]\n",
            " [ 4]]\n",
            "L_1 is: 15.0\n",
            "L_2 is: 7.4\n",
            "L_inf is: 5.0\n"
          ]
        }
      ]
    },
    {
      "cell_type": "markdown",
      "source": [
        "*   **Vector Addition -** the pairwise addition of each of the elements of the added vectors. \n",
        "*   **Scalar Multiplication -** the product of a vector and a scalar (i.e., a number in ℝ ... the product of each element of the vector by the scalar.\n",
        "*   **Dot Product -** The dot product of two vectors is the sum of the product of the respective elements in each vector and is denoted by ⋅\n",
        ", and 𝑣⋅𝑤\n",
        "*   **The Angle Between Two Vectors (𝜃) -** is defined by the formula:\n",
        "\n",
        "𝑣⋅𝑤=‖𝑣‖2‖𝑤‖2cos𝜃\n",
        "\n",
        "Ex. Compute the angle between the vectors 𝑣=[10,9,3] and 𝑤=[2,5,12]."
      ],
      "metadata": {
        "id": "esXkS60NfMxD"
      }
    },
    {
      "cell_type": "code",
      "source": [
        "from numpy import arccos, dot\n",
        "\n",
        "v = np.array([[10, 9, 3]])\n",
        "w = np.array([[2, 5, 12]])\n",
        "theta = \\\n",
        "    arccos(dot(v, w.T)/(norm(v)*norm(w)))\n",
        "print(theta)"
      ],
      "metadata": {
        "colab": {
          "base_uri": "https://localhost:8080/"
        },
        "id": "JkIyDBpBfQDG",
        "outputId": "718ac464-8725-4c30-8c69-ab360ce4ed43"
      },
      "execution_count": 6,
      "outputs": [
        {
          "output_type": "stream",
          "name": "stdout",
          "text": [
            "[[0.97992471]]\n"
          ]
        }
      ]
    },
    {
      "cell_type": "markdown",
      "source": [
        "*   **Perpendicular/Orthoogonal -** If the angle between the vectors, 𝜃=𝜋/2\n",
        ", then the vectors are said to be perpendicular or orthogonal, and the dot product is 0."
      ],
      "metadata": {
        "id": "tPEEYPxOe9BO"
      }
    },
    {
      "cell_type": "code",
      "source": [
        "from numpy import arccos, dot\n",
        "\n",
        "v = np.array([[10, 9, 3]])\n",
        "w = np.array([[2, 5, 12]])\n",
        "theta = \\\n",
        "    arccos(dot(v, w.T)/(norm(v)*norm(w)))\n",
        "print(theta)"
      ],
      "metadata": {
        "colab": {
          "base_uri": "https://localhost:8080/"
        },
        "id": "wPCeOI-CeEmp",
        "outputId": "3e0c9764-dbce-4c52-80dc-fa65ffb5b8d7"
      },
      "execution_count": 7,
      "outputs": [
        {
          "output_type": "stream",
          "name": "stdout",
          "text": [
            "[[0.97992471]]\n"
          ]
        }
      ]
    },
    {
      "cell_type": "markdown",
      "source": [
        "\n",
        "*   **Cross Product -** the cross product between two vectors, 𝑣\n",
        " and 𝑤 is written 𝑣×𝑤. It is defined by 𝑣×𝑤=‖𝑣‖2‖𝑤‖2sin(𝜃)n, where 𝜃is the angle between the 𝑣and 𝑤(which can be computed from the dot product) and 𝑛 is a vector perpendicular to both 𝑣 and 𝑤 with unit length (i.e., the length is one).\n",
        "\n",
        " Ex. Given the vectors 𝑣=[0,2,0] nd 𝑤=[3,0,0], use the Numpy function cross to compute the cross product of v and w.\n",
        "\n"
      ],
      "metadata": {
        "id": "LDgEM-MigINf"
      }
    },
    {
      "cell_type": "code",
      "source": [
        "v = np.array([[0, 2, 0]])\n",
        "w = np.array([[3, 0, 0]])\n",
        "print(np.cross(v, w))"
      ],
      "metadata": {
        "id": "ec2RLNvSglHJ"
      },
      "execution_count": null,
      "outputs": []
    },
    {
      "cell_type": "markdown",
      "source": [
        "**1.2 Elements of Linear Algebra**\n",
        "\n"
      ],
      "metadata": {
        "id": "Cn7D6Ml2Rin0"
      }
    },
    {
      "cell_type": "markdown",
      "source": [
        "\n",
        "\n",
        "\n",
        "*   **Linear combination** -a new vector constructed from a\n",
        "subset by multiplying each vector by a constant and adding the results. A\n",
        "linear subspace is a result of linear combination.\n",
        "\n",
        "Ex. -Given the row vectors 𝑣=[0,3,2]𝑤=[4,1,1]and 𝑢=[0,−2,0]write the vector 𝑥=[−8,−1,4]as a linear combination of 𝑣, 𝑤, and 𝑢.\n",
        "\n",
        "\n",
        "\n"
      ],
      "metadata": {
        "id": "RnXYgd57Rhe-"
      }
    },
    {
      "cell_type": "code",
      "source": [
        "v = np.array([[0, 3, 2]])\n",
        "w = np.array([[4, 1, 1]])\n",
        "u = np.array([[0, -2, 0]])\n",
        "x = 3*v-2*w+4*u\n",
        "print(x)"
      ],
      "metadata": {
        "colab": {
          "base_uri": "https://localhost:8080/"
        },
        "id": "MmHW3MNEWHtH",
        "outputId": "7a4ec6c0-bb96-4c5b-840d-13e84a908915"
      },
      "execution_count": 8,
      "outputs": [
        {
          "output_type": "stream",
          "name": "stdout",
          "text": [
            "[[-8 -1  4]]\n"
          ]
        }
      ]
    },
    {
      "cell_type": "markdown",
      "source": [
        "\n",
        "\n",
        "*   **Linear Subspace** -a linear subspace of V is a subset U ⊆ V\n",
        "that is closed under vector addition and scalar multiplication. That is, for all\n",
        "u1,u2 ∈ U and α∈ R, it holds that\n",
        "u1 +u2 ∈ U,and αu1 ∈ U.\n",
        "*   **Span-** Let w1,...,wm ∈ V . The span of {w1,...,wm}, denoted\n",
        "span(w1,...,wm), is the set of all linear combinations of the wj ’s. That is,\n",
        "span(w1,...,wm)=\n",
        "{ m\n",
        "∑j=1\n",
        "αj wj : α1,...,αm ∈ R\n",
        "}\n",
        "*  **Column Space-** Let A ∈ Rn×m be an n×m matrix with columns\n",
        "a1,...,am ∈ Rn. The column space of A, denoted col(A), is the span of the\n",
        "columns of A, that is, col(A)=span(a1,...,am)∈ Rn.\n",
        "\n",
        "\n",
        "\n",
        "*  **Linear Independence** - a list of column vectors u1,...,um is linearly independent if none of them can be written as a linear combinations of the others.\n",
        "*   **Dimension Theorem** - Let U be a linear subspace of V. Any basis of U has the same number of elements. All bases of U have the same length and same number of elements is dim(U).\n",
        "\n",
        "\n",
        "\n",
        "*   **Orthonormality-** Aa list of vectors {u1,...,um} is orthonormal if the u's are pairwise orthogonal and each has a norm 1 .\n",
        "*   **Orthogonal Projection -** Let U ⊆ V be a linear subspace with orthonormal basis q1,...,qm. The orthogonal porjection of v ∊ V on U is Pu v = sum(j=1)< v , qj > qj.\n",
        "\n",
        "\n",
        "*   **Best Approximation Theorem -** Let U ⊆ V be a linear subspace with orthonormal basis q1,...,qm let v ∊ V. For any u ∊ U. ||v-Pu v|| <= ||v-u||.\n",
        "*   **Cauchy-Schwarz -** For any u1 v ∊ V , |<u,v>| <= ||u|| ||v||\n",
        "\n",
        "\n",
        "*   **Gram-Schmidt -** Let a1,...,am in R^n be linearly independent. Then there exists an orthonormal basis, q1,...,qm of span(a1,...,am).\n",
        "*   **Eigenvalues and Eigenvectors -** Let A ∊ R^(dxd) be a square matrix. Then 𝜆 ∊ R is an eigenvalue of A if there exists a non-zero vector x != 0 such that Ax = 𝜆x. Vector x is an eigenvector.\n",
        "\n",
        "\n",
        "\n",
        "\n",
        "\n",
        "\n"
      ],
      "metadata": {
        "id": "UKWKdSWgWgst"
      }
    },
    {
      "cell_type": "code",
      "source": [
        "import numpy as np\n",
        "from numpy.linalg import eig\n",
        "x = np.array([ [2, 3], [6, 2] ])\n",
        "w,v = eig(x)\n",
        "print('E-value:', w)\n",
        "print('E-vector', v)"
      ],
      "metadata": {
        "colab": {
          "base_uri": "https://localhost:8080/"
        },
        "id": "KZ28gHAMhriF",
        "outputId": "0ecf5261-82d6-4bdc-97af-1366ca76eff0"
      },
      "execution_count": 9,
      "outputs": [
        {
          "output_type": "stream",
          "name": "stdout",
          "text": [
            "E-value: [ 6.24264069 -2.24264069]\n",
            "E-vector [[ 0.57735027 -0.57735027]\n",
            " [ 0.81649658  0.81649658]]\n"
          ]
        }
      ]
    },
    {
      "cell_type": "markdown",
      "source": [
        "**1.3 Linear Regression**"
      ],
      "metadata": {
        "id": "gu5YLBOqR085"
      }
    },
    {
      "cell_type": "markdown",
      "source": [
        "**QR Method -**  a preferred method for finding all eigenvalues for a matrix using the Gram-Schmidt technique.\n",
        "\n",
        "Ex.- Use the qr function in numpy.linalg to decompose matrix \n",
        "𝐴=[1,3] \n",
        "  [4, 2]\n",
        "And verify the results.\n"
      ],
      "metadata": {
        "id": "Ir9Ut3TPR8bb"
      }
    },
    {
      "cell_type": "code",
      "source": [
        "import numpy as np\n",
        "from numpy.linalg import qr\n",
        "a = np.array([[1, 3], \n",
        "              [4, 2]])\n",
        "\n",
        "q, r = qr(a)\n",
        "\n",
        "print('Q:', q)\n",
        "print('R:', r)\n",
        "\n",
        "b = np.dot(q, r)\n",
        "print('QR:', b)"
      ],
      "metadata": {
        "colab": {
          "base_uri": "https://localhost:8080/"
        },
        "id": "2NRxQ9pSjMr7",
        "outputId": "7f2d42f5-38d5-46ac-8321-3198e9fa8d20"
      },
      "execution_count": 10,
      "outputs": [
        {
          "output_type": "stream",
          "name": "stdout",
          "text": [
            "Q: [[-0.24253563 -0.9701425 ]\n",
            " [-0.9701425   0.24253563]]\n",
            "R: [[-4.12310563 -2.66789188]\n",
            " [ 0.         -2.42535625]]\n",
            "QR: [[1. 3.]\n",
            " [4. 2.]]\n"
          ]
        }
      ]
    },
    {
      "cell_type": "markdown",
      "source": [
        "Ex. Use the QR method to get the eigenvalues of matrix \n",
        "𝐴=[1,5]\n",
        "  [6,3]\n",
        "  Do 20 iterations, and print out the 1st, 5th, 10th, and 20th iteration.\n"
      ],
      "metadata": {
        "id": "ljH_te-6jPbd"
      }
    },
    {
      "cell_type": "code",
      "source": [
        "a = np.array([[1, 5], \n",
        "              [6, 3]])\n",
        "p = [1, 5, 10, 20]\n",
        "for i in range(20):\n",
        "    q, r = qr(a)\n",
        "    a = np.dot(r, q)\n",
        "    if i+1 in p:\n",
        "        print(f'Iteration {i+1}:')\n",
        "        print(a)"
      ],
      "metadata": {
        "id": "ecaMobh6jjU_",
        "outputId": "c129e19c-f1ce-4dd2-f1ab-06ccfc55ba53",
        "colab": {
          "base_uri": "https://localhost:8080/"
        }
      },
      "execution_count": 11,
      "outputs": [
        {
          "output_type": "stream",
          "name": "stdout",
          "text": [
            "Iteration 1:\n",
            "[[ 4.72972973  5.37837838]\n",
            " [ 4.37837838 -0.72972973]]\n",
            "Iteration 5:\n",
            "[[ 7.53219819  1.30298389]\n",
            " [ 0.30298389 -3.53219819]]\n",
            "Iteration 10:\n",
            "[[ 7.56839712e+00 -9.92903126e-01]\n",
            " [ 7.09687381e-03 -3.56839712e+00]]\n",
            "Iteration 20:\n",
            "[[ 7.56776471e+00 -9.99996151e-01]\n",
            " [ 3.84860377e-06 -3.56776471e+00]]\n"
          ]
        }
      ]
    }
  ]
}